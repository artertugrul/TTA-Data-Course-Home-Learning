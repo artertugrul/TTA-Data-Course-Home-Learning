{
 "cells": [
  {
   "cell_type": "markdown",
   "metadata": {},
   "source": [
    "***Task 01***"
   ]
  },
  {
   "cell_type": "code",
   "execution_count": null,
   "metadata": {},
   "outputs": [],
   "source": [
    "M1 = \"1 for Soya Milk\"\n",
    "M2 = \"2 for Whole Milk\"\n",
    "M3 = \"3 for Skimmed Milk\"\n",
    "print(M1, M2, M3)\n",
    "milk = int(input(\"Please select a  milk for your coffee\"))\n",
    "\n",
    "if milk == 1 :\n",
    "    milk = M1\n",
    "elif milk == 2 :\n",
    "    milk = 2\n",
    "elif milk == 3 :\n",
    "    milk = M3\n",
    "else :\n",
    "    print(\"It is not in the menu\")\n",
    "print(milk)\n",
    "\n",
    "s1 = \"1 for Small\"\n",
    "s2 = \"2 for Medium\"\n",
    "s3 = \"3 for Large\"\n",
    "print(s1, s2, s3)\n",
    "size = int(input(\"Please select size \"))\n",
    "\n",
    "print(size)\n",
    "if size == 1 :\n",
    "    size = s1\n",
    "elif size == 2 :\n",
    "    size = s2\n",
    "elif size == 3 :\n",
    "    size = s3\n",
    "else :\n",
    "    print(\"It is not in the menu\")\n",
    "print(size)\n",
    "\n",
    "ta = input(\"is it going to be take away? Please enter Y or N? \")\n",
    "\n",
    "if ta == \"y\" :\n",
    "    ta = \"Take away\"\n",
    "else:\n",
    "    ta = \"Eat in\"\n",
    "\n",
    "print(\"Please pay for \", ta,  \" \", size, \" \", milk, \" coffee\" )"
   ]
  },
  {
   "cell_type": "markdown",
   "metadata": {},
   "source": [
    "***Task 02***"
   ]
  },
  {
   "cell_type": "code",
   "execution_count": null,
   "metadata": {},
   "outputs": [],
   "source": [
    "def value_cal() :\n",
    "    bike_value = 2000\n",
    "    year = 2022    \n",
    "    while bike_value >= 1000:\n",
    "        print(\"The value of the bike is:\",\"£\"+ str(bike_value), \"for \", year )\n",
    "        bike_value = bike_value - bike_value*0.1 \n",
    "        year = year - 1\n",
    "\n",
    "value_cal()"
   ]
  },
  {
   "cell_type": "markdown",
   "metadata": {},
   "source": [
    "***Task 03***"
   ]
  },
  {
   "cell_type": "code",
   "execution_count": null,
   "metadata": {},
   "outputs": [],
   "source": [
    "a = int(input(\"Please enter a number for A\"))\n",
    "b = int(input(\"Please enter a number for B\"))\n",
    "print(\"Please see the Operation List below\")\n",
    "print(\"Enter 1 for A + B\")\n",
    "print(\"Enter 2 for A x B\")\n",
    "print(\"Enter 3 for A / B\") \n",
    "print(\"Enter 4 for A power B\")\n",
    "\n",
    "user_Selection = int(input(\"Please select the operation that you would like to perform:\"))\n",
    "if user_Selection == 1 :\n",
    "    print(a+b)\n",
    "elif user_Selection == 2 :\n",
    "    print(a*b)\n",
    "elif user_Selection == 3 :\n",
    "    print(a/b)\n",
    "elif user_Selection == 4 :\n",
    "    print(a**b)\n",
    "else:\n",
    "    print(\"That selection is not defined\")"
   ]
  }
 ],
 "metadata": {
  "language_info": {
   "name": "python"
  },
  "orig_nbformat": 4
 },
 "nbformat": 4,
 "nbformat_minor": 2
}
