{
 "cells": [
  {
   "cell_type": "markdown",
   "metadata": {},
   "source": [
    "Task 01"
   ]
  },
  {
   "cell_type": "code",
   "execution_count": 27,
   "metadata": {},
   "outputs": [
    {
     "name": "stdout",
     "output_type": "stream",
     "text": [
      "Lets play a game. I have a number between 1 and 10. \n",
      "Try to guess it. you have 3 guess\n",
      "\n",
      "well done! number was 4\n"
     ]
    }
   ],
   "source": [
    "import random\n",
    "number = random.randint(1, 10) \n",
    "print(\"Lets play a game. I have a number between 1 and 10. \\nTry to guess it. you have 3 guess\\n\")\n",
    "\n",
    "for i in range(3):\n",
    "    guess = int(input(\"Enter guess 0{}: \".format(i+1)))\n",
    "    if guess == number:\n",
    "        print(\"well done! number was {}\".format(number))\n",
    "        break\n",
    "    \n",
    "    elif guess != number and i == 2:\n",
    "        print(\"Better luck next time, number was {}\".format(number))\n",
    "\n",
    "    else:\n",
    "        print(\"Try again\")\n",
    "    "
   ]
  },
  {
   "cell_type": "markdown",
   "metadata": {},
   "source": [
    "Task 02"
   ]
  },
  {
   "cell_type": "code",
   "execution_count": 41,
   "metadata": {},
   "outputs": [
    {
     "name": "stdout",
     "output_type": "stream",
     "text": [
      "Two monkeys were getting into the bath. One said: ‘Oo, oo, aah.’ \n",
      "The other replied...\n",
      "Put some cold in then.🤣🤣🤣\n"
     ]
    }
   ],
   "source": [
    "joke01a = \"I’ve found a job helping a one armed typist do capital letters.\"\n",
    "joke01b = \"It’s shift work.! \\U0001F923\\U0001F923\\U0001F923\"\n",
    "joke02a = \"Somebody actually complimented me on my driving today. \\nThey left a little note...\"\n",
    "joke02b = \"it said Parking Fine. \\U0001F923\\U0001F923\\U0001F923\"\n",
    "joke03a = \"Two monkeys were getting into the bath. One said: ‘Oo, oo, aah.’ \\nThe other replied...\"\n",
    "joke03b = \"Put some cold in then.\\U0001F923\\U0001F923\\U0001F923\"\n",
    "\n",
    "number = int(input(\"Do you want to hear a joke? Give me a number betwwen 1 and 100\"))\n",
    "\n",
    "import time\n",
    "\n",
    "if number < 33 :\n",
    "    print(joke01a)\n",
    "    time.sleep(3)\n",
    "    print(joke01b)\n",
    "\n",
    "elif number < 66 and number >33:\n",
    "    print(joke02a)\n",
    "    time.sleep(3)\n",
    "    print(joke02b)\n",
    "\n",
    "else:\n",
    "    print(joke03a)\n",
    "    time.sleep(3)\n",
    "    print(joke03b)\n",
    "    \n",
    "\n"
   ]
  },
  {
   "cell_type": "code",
   "execution_count": 45,
   "metadata": {},
   "outputs": [
    {
     "name": "stdout",
     "output_type": "stream",
     "text": [
      "your favorite meal is asd, asd, asd with a glass of asd\n"
     ]
    }
   ],
   "source": [
    " a = input(\"What is your favorite starter? \")\n",
    " b = input(\"What is your favorite main? \")\n",
    " c = input(\"What is your favorite dessert? \")\n",
    " d = input(\"What is your favorite drink? \")\n",
    "\n",
    "print(\"your favorite meal is {}, {}, {} with a glass of {}\".format(a,b,c,d))"
   ]
  },
  {
   "cell_type": "code",
   "execution_count": 54,
   "metadata": {},
   "outputs": [
    {
     "name": "stdout",
     "output_type": "stream",
     "text": [
      "Value of the bike is £2000 for 2022\n",
      "Value of the bike is £1800 for 2021\n",
      "Value of the bike is £1620 for 2020\n",
      "Value of the bike is £1458 for 2019\n",
      "Value of the bike is £1312 for 2018\n",
      "Value of the bike is £1181 for 2017\n",
      "Value of the bike is £1063 for 2016\n",
      "Value of the bike is £957 for 2015\n"
     ]
    }
   ],
   "source": [
    "value = 2000\n",
    "year = 2022\n",
    "\n",
    "print(\"Value of the bike is £{} for {}\".format(value, year))\n",
    "\n",
    "while value  > 1000 :\n",
    "    value = round(value * 0.9)\n",
    "    year = year -1\n",
    "    print(\"Value of the bike is £{} for {}\".format(value, year))\n"
   ]
  }
 ],
 "metadata": {
  "interpreter": {
   "hash": "fb763a7ed9584b48721aefbc9fc4a4dd8d370bb0e8b27fa79772859c500dd6ac"
  },
  "kernelspec": {
   "display_name": "Python 3.10.4 64-bit",
   "language": "python",
   "name": "python3"
  },
  "language_info": {
   "codemirror_mode": {
    "name": "ipython",
    "version": 3
   },
   "file_extension": ".py",
   "mimetype": "text/x-python",
   "name": "python",
   "nbconvert_exporter": "python",
   "pygments_lexer": "ipython3",
   "version": "3.10.4"
  },
  "orig_nbformat": 4
 },
 "nbformat": 4,
 "nbformat_minor": 2
}
