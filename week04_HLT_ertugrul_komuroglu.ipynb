{
 "cells": [
  {
   "cell_type": "markdown",
   "metadata": {},
   "source": [
    "Task 01"
   ]
  },
  {
   "cell_type": "code",
   "execution_count": 11,
   "metadata": {},
   "outputs": [],
   "source": [
    "numbers = (\"3\", \"45\", \"83\", \"21\")\n",
    "\n",
    "with open(\"numbers.txt\", \"w\") as myfile:\n",
    "    myfile.close()\n",
    "\n",
    "with open(\"numbers.txt\", \"a+\") as myfile:\n",
    "    myfile.seek(0)\n",
    "\n",
    "    for i in range(len(numbers)):\n",
    "        myfile.write(numbers[i])\n",
    "        myfile.write(\"\\n\")\n",
    "\n"
   ]
  },
  {
   "cell_type": "markdown",
   "metadata": {},
   "source": [
    "Task 02"
   ]
  },
  {
   "cell_type": "code",
   "execution_count": 12,
   "metadata": {},
   "outputs": [
    {
     "name": "stdout",
     "output_type": "stream",
     "text": [
      "Good\n"
     ]
    }
   ],
   "source": [
    "def converter(per):\n",
    "    if 100 >= per > 70 :\n",
    "        return \"Good\"\n",
    "    elif 70>= per > 50 :\n",
    "        return \"Average\"\n",
    "    else :\n",
    "        return \"Fail\"\n",
    "\n",
    "percentage = int(input(\"Enter your percentage mark: \"))  \n",
    "\n",
    "print(converter(percentage))"
   ]
  },
  {
   "cell_type": "markdown",
   "metadata": {},
   "source": [
    "Numpy Task 01"
   ]
  },
  {
   "cell_type": "code",
   "execution_count": 13,
   "metadata": {},
   "outputs": [
    {
     "name": "stdout",
     "output_type": "stream",
     "text": [
      "[0 1 2 3 4 5 6 7 8 9]\n"
     ]
    }
   ],
   "source": [
    "import numpy as np\n",
    "array = np.arange(0,10)\n",
    "print(array)"
   ]
  },
  {
   "cell_type": "markdown",
   "metadata": {},
   "source": [
    "Numpy Task 02"
   ]
  },
  {
   "cell_type": "code",
   "execution_count": 17,
   "metadata": {},
   "outputs": [
    {
     "name": "stdout",
     "output_type": "stream",
     "text": [
      "[[0.72554848 0.83692565 0.00395104]\n",
      " [0.81582811 0.26513012 0.49115994]\n",
      " [0.94837217 0.92211833 0.58126902]]\n",
      "[[ True  True  True]\n",
      " [ True  True  True]\n",
      " [ True  True  True]]\n"
     ]
    }
   ],
   "source": [
    "import numpy as np\n",
    "array = np.random.rand(3,3)\n",
    "print(array)\n",
    "\n",
    "b_array = array <1\n",
    "print(b_array)"
   ]
  },
  {
   "cell_type": "markdown",
   "metadata": {},
   "source": [
    "Numpy Task 03"
   ]
  },
  {
   "cell_type": "code",
   "execution_count": 59,
   "metadata": {},
   "outputs": [
    {
     "name": "stdout",
     "output_type": "stream",
     "text": [
      "[1 3 5 7 9]\n"
     ]
    }
   ],
   "source": [
    "import numpy as np\n",
    "array = np.arange(1,11)\n",
    "print(array[0:10:2])"
   ]
  },
  {
   "cell_type": "markdown",
   "metadata": {},
   "source": [
    "Numpy Task 04"
   ]
  },
  {
   "cell_type": "code",
   "execution_count": null,
   "metadata": {},
   "outputs": [],
   "source": [
    "import numpy as np\n",
    "array = np.arange(1,11)\n",
    "\n",
    "for i in range(0, len(array),2):\n",
    "    array[i] = -1\n",
    "\n",
    "print(array)"
   ]
  },
  {
   "cell_type": "markdown",
   "metadata": {},
   "source": [
    "Numpy Task 05"
   ]
  },
  {
   "cell_type": "code",
   "execution_count": 62,
   "metadata": {},
   "outputs": [
    {
     "name": "stdout",
     "output_type": "stream",
     "text": [
      "[[0 1]\n",
      " [2 3]]\n"
     ]
    }
   ],
   "source": [
    "import numpy as np\n",
    "array = np.arange(0,4)\n",
    "n_array = array.reshape(2,2)\n",
    "print(n_array)"
   ]
  },
  {
   "cell_type": "markdown",
   "metadata": {},
   "source": [
    "Numpy Task 06"
   ]
  },
  {
   "cell_type": "code",
   "execution_count": 66,
   "metadata": {},
   "outputs": [
    {
     "name": "stdout",
     "output_type": "stream",
     "text": [
      "[[1.05203508 1.54357229 0.91239454]\n",
      " [1.01664743 1.60934987 0.7569222 ]\n",
      " [0.8598941  1.16080452 0.82965758]]\n",
      "9.741277623181208\n"
     ]
    }
   ],
   "source": [
    "import numpy as np\n",
    "\n",
    "array_01 = np.random.rand(3,3)\n",
    "array_02 = np.random.rand(3,3)\n",
    "\n",
    "c= np.dot(array_01, array_02)\n",
    "d = np.sum(c)\n",
    "\n",
    "print(c)\n",
    "print(d)"
   ]
  }
 ],
 "metadata": {
  "interpreter": {
   "hash": "fb763a7ed9584b48721aefbc9fc4a4dd8d370bb0e8b27fa79772859c500dd6ac"
  },
  "kernelspec": {
   "display_name": "Python 3.10.4 64-bit",
   "language": "python",
   "name": "python3"
  },
  "language_info": {
   "codemirror_mode": {
    "name": "ipython",
    "version": 3
   },
   "file_extension": ".py",
   "mimetype": "text/x-python",
   "name": "python",
   "nbconvert_exporter": "python",
   "pygments_lexer": "ipython3",
   "version": "3.10.4"
  },
  "orig_nbformat": 4
 },
 "nbformat": 4,
 "nbformat_minor": 2
}
